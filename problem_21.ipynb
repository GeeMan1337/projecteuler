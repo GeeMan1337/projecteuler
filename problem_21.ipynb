{
  "nbformat": 4,
  "nbformat_minor": 0,
  "metadata": {
    "colab": {
      "provenance": [],
      "authorship_tag": "ABX9TyMLAozRlihT8dUxAnNYDb1X",
      "include_colab_link": true
    },
    "kernelspec": {
      "name": "python3",
      "display_name": "Python 3"
    },
    "language_info": {
      "name": "python"
    }
  },
  "cells": [
    {
      "cell_type": "markdown",
      "metadata": {
        "id": "view-in-github",
        "colab_type": "text"
      },
      "source": [
        "<a href=\"https://colab.research.google.com/github/GeeMan1337/projecteuler/blob/main/problem_21.ipynb\" target=\"_parent\"><img src=\"https://colab.research.google.com/assets/colab-badge.svg\" alt=\"Open In Colab\"/></a>"
      ]
    },
    {
      "cell_type": "code",
      "execution_count": 20,
      "metadata": {
        "colab": {
          "base_uri": "https://localhost:8080/"
        },
        "id": "XZ5aMjCtojr3",
        "outputId": "2aa69003-500b-463f-fe35-eb1ee9f77597"
      },
      "outputs": [
        {
          "output_type": "stream",
          "name": "stdout",
          "text": [
            "[220, 284, 1184, 1210, 2620, 2924, 5020, 5564, 6232, 6368] 31626\n"
          ]
        }
      ],
      "source": [
        "def sum_proper_divisors(number):\n",
        "  sum=0\n",
        "  for i in range(1,int(number/2)+1):\n",
        "    if number%i==0:\n",
        "      sum=sum+i\n",
        "  return sum\n",
        "\n",
        "amicable_numbers=[]\n",
        "\n",
        "for k in range(1,10001):\n",
        "  check=sum_proper_divisors(k)\n",
        "  if k==sum_proper_divisors(check) and k not in amicable_numbers and k!=check:\n",
        "    if k!=check:\n",
        "      amicable_numbers.append(k)\n",
        "      amicable_numbers.append(check)\n",
        "\n",
        "sum=0\n",
        "\n",
        "for j in amicable_numbers:\n",
        "  sum=sum+j\n",
        "\n",
        "print(amicable_numbers,sum)\n"
      ]
    }
  ]
}