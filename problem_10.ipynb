{
  "nbformat": 4,
  "nbformat_minor": 0,
  "metadata": {
    "colab": {
      "provenance": [],
      "authorship_tag": "ABX9TyPmMjwLNttBiVSmf4fsvBSa",
      "include_colab_link": true
    },
    "kernelspec": {
      "name": "python3",
      "display_name": "Python 3"
    },
    "language_info": {
      "name": "python"
    }
  },
  "cells": [
    {
      "cell_type": "markdown",
      "metadata": {
        "id": "view-in-github",
        "colab_type": "text"
      },
      "source": [
        "<a href=\"https://colab.research.google.com/github/GeeMan1337/projecteuler/blob/main/problem_10.ipynb\" target=\"_parent\"><img src=\"https://colab.research.google.com/assets/colab-badge.svg\" alt=\"Open In Colab\"/></a>"
      ]
    },
    {
      "cell_type": "code",
      "execution_count": 74,
      "metadata": {
        "id": "g4iS-niTkkFg",
        "colab": {
          "base_uri": "https://localhost:8080/"
        },
        "outputId": "5d760c09-ff86-4e02-8df0-9590084636af"
      },
      "outputs": [
        {
          "output_type": "stream",
          "name": "stdout",
          "text": [
            "142913828922\n"
          ]
        }
      ],
      "source": [
        "import math\n",
        "def nfac(n):\n",
        "  for i in range(2,int(math.sqrt(n))+1):\n",
        "    if n%i==0:\n",
        "      return 0\n",
        "  return n\n",
        "\n",
        "p=[]\n",
        "for j in range(2,2000000):\n",
        "  if nfac(j)!=0:\n",
        "    p.append(nfac(j))\n",
        "\n",
        "sum=0\n",
        "for k in p:\n",
        "  sum=sum+k\n",
        "print(sum)"
      ]
    },
    {
      "cell_type": "code",
      "source": [],
      "metadata": {
        "id": "CHJPYtTYkuRB"
      },
      "execution_count": null,
      "outputs": []
    }
  ]
}