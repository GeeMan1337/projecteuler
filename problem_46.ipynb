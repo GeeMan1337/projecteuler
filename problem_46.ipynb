{
  "nbformat": 4,
  "nbformat_minor": 0,
  "metadata": {
    "colab": {
      "provenance": [],
      "authorship_tag": "ABX9TyMj7cjzqwifzMe+83EDQL3n",
      "include_colab_link": true
    },
    "kernelspec": {
      "name": "python3",
      "display_name": "Python 3"
    },
    "language_info": {
      "name": "python"
    }
  },
  "cells": [
    {
      "cell_type": "markdown",
      "metadata": {
        "id": "view-in-github",
        "colab_type": "text"
      },
      "source": [
        "<a href=\"https://colab.research.google.com/github/GeeMan1337/projecteuler/blob/main/problem_46.ipynb\" target=\"_parent\"><img src=\"https://colab.research.google.com/assets/colab-badge.svg\" alt=\"Open In Colab\"/></a>"
      ]
    },
    {
      "cell_type": "code",
      "execution_count": 46,
      "metadata": {
        "id": "MJuwLcDs80U_",
        "colab": {
          "base_uri": "https://localhost:8080/"
        },
        "outputId": "e20f6495-bd57-434e-c00d-18d8a470aade"
      },
      "outputs": [
        {
          "output_type": "stream",
          "name": "stdout",
          "text": [
            "5777\n"
          ]
        }
      ],
      "source": [
        "num=2\n",
        "flag=False\n",
        "\n",
        "def perfect_sq(number:int):\n",
        "  if number**0.5==int(number**0.5):\n",
        "    return True\n",
        "  return False\n",
        "\n",
        "def prime(number):\n",
        "  for i in range(2,int(number**0.5+1)):\n",
        "    if number%i==0:\n",
        "      return False\n",
        "  return True\n",
        "\n",
        "while True:\n",
        "  if not prime(num) and num%2!=0:\n",
        "    answers=[(num-j)/2 for j in range(2,num) if prime(j)]\n",
        "    bool_list=[perfect_sq(k) for k in answers]\n",
        "    if True not in bool_list:\n",
        "      print(num)\n",
        "      break\n",
        "  num=num+1\n",
        "\n",
        "\n"
      ]
    }
  ]
}