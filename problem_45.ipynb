{
  "nbformat": 4,
  "nbformat_minor": 0,
  "metadata": {
    "colab": {
      "provenance": [],
      "authorship_tag": "ABX9TyNAJoGMX7s086gw3jPdSlPc",
      "include_colab_link": true
    },
    "kernelspec": {
      "name": "python3",
      "display_name": "Python 3"
    },
    "language_info": {
      "name": "python"
    }
  },
  "cells": [
    {
      "cell_type": "markdown",
      "metadata": {
        "id": "view-in-github",
        "colab_type": "text"
      },
      "source": [
        "<a href=\"https://colab.research.google.com/github/GeeMan1337/projecteuler/blob/main/problem_45.ipynb\" target=\"_parent\"><img src=\"https://colab.research.google.com/assets/colab-badge.svg\" alt=\"Open In Colab\"/></a>"
      ]
    },
    {
      "cell_type": "code",
      "source": [
        "import sympy\n",
        "n=sympy.symbols(\"n\")\n",
        "\n",
        "\n",
        "def pent_num(index):\n",
        "  p_n=index*(3*index-1)/2\n",
        "  return int(p_n)\n",
        "\n",
        "def tri_num(index):\n",
        "  t_n=index*(index+1)/2\n",
        "  return int(t_n)\n",
        "\n",
        "def hex_num(index):\n",
        "  h_n=index*(2*index-1)\n",
        "  return int(h_n)\n",
        "\n",
        "list_common=[]\n",
        "tri,pent,hex=[],[],[]\n",
        "for i in range(1,300000):\n",
        "    tri.append(tri_num(i))\n",
        "    pent.append(pent_num(i))\n",
        "    hex.append(hex_num(i))\n",
        "\n",
        "list_common=list((set(tri).intersection(set(pent),set(hex))))\n",
        "\n",
        "print(list_common)"
      ],
      "metadata": {
        "colab": {
          "base_uri": "https://localhost:8080/"
        },
        "id": "Ejzkt3FRBiEN",
        "outputId": "b1e688e1-8c91-4716-96bf-28064a606806"
      },
      "execution_count": 24,
      "outputs": [
        {
          "output_type": "stream",
          "name": "stdout",
          "text": [
            "[1, 40755, 1533776805]\n"
          ]
        }
      ]
    }
  ]
}