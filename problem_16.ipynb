{
  "nbformat": 4,
  "nbformat_minor": 0,
  "metadata": {
    "colab": {
      "provenance": [],
      "authorship_tag": "ABX9TyPqIytZbnXi5bLTHhSuso2d",
      "include_colab_link": true
    },
    "kernelspec": {
      "name": "python3",
      "display_name": "Python 3"
    },
    "language_info": {
      "name": "python"
    }
  },
  "cells": [
    {
      "cell_type": "markdown",
      "metadata": {
        "id": "view-in-github",
        "colab_type": "text"
      },
      "source": [
        "<a href=\"https://colab.research.google.com/github/GeeMan1337/projecteuler/blob/main/problem_16.ipynb\" target=\"_parent\"><img src=\"https://colab.research.google.com/assets/colab-badge.svg\" alt=\"Open In Colab\"/></a>"
      ]
    },
    {
      "cell_type": "code",
      "execution_count": 15,
      "metadata": {
        "colab": {
          "base_uri": "https://localhost:8080/"
        },
        "id": "h4d5mVNxEc9n",
        "outputId": "9737067d-c6a2-4996-d9b6-97d228b3e226"
      },
      "outputs": [
        {
          "output_type": "stream",
          "name": "stdout",
          "text": [
            "1366\n"
          ]
        }
      ],
      "source": [
        "s=2\n",
        "n=1000 #power of 2\n",
        "for i in range(1,n):\n",
        "  s=s*2\n",
        "l=[]\n",
        "d=str(s)\n",
        "sum=0\n",
        "for k in d:\n",
        "  sum=sum+int(k)\n",
        "print(sum)"
      ]
    },
    {
      "cell_type": "code",
      "source": [],
      "metadata": {
        "id": "paYkeQ3nE4qj"
      },
      "execution_count": null,
      "outputs": []
    }
  ]
}