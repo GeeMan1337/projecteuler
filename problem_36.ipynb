{
  "nbformat": 4,
  "nbformat_minor": 0,
  "metadata": {
    "colab": {
      "provenance": [],
      "authorship_tag": "ABX9TyOTa+Uu4VTNWIzmZJTySxDe",
      "include_colab_link": true
    },
    "kernelspec": {
      "name": "python3",
      "display_name": "Python 3"
    },
    "language_info": {
      "name": "python"
    }
  },
  "cells": [
    {
      "cell_type": "markdown",
      "metadata": {
        "id": "view-in-github",
        "colab_type": "text"
      },
      "source": [
        "<a href=\"https://colab.research.google.com/github/GeeMan1337/projecteuler/blob/main/problem_36.ipynb\" target=\"_parent\"><img src=\"https://colab.research.google.com/assets/colab-badge.svg\" alt=\"Open In Colab\"/></a>"
      ]
    },
    {
      "cell_type": "code",
      "execution_count": 52,
      "metadata": {
        "colab": {
          "base_uri": "https://localhost:8080/"
        },
        "id": "zV2tfWLNu6CJ",
        "outputId": "e8987246-1881-400f-a98e-09d9dea1d1e5"
      },
      "outputs": [
        {
          "output_type": "stream",
          "name": "stdout",
          "text": [
            "872187\n"
          ]
        }
      ],
      "source": [
        "def binary(num):\n",
        "  string=''\n",
        "  if num>1:\n",
        "    while num>1:\n",
        "      string=string+str(num%2)\n",
        "      num=int(num/2)\n",
        "      if num==1:\n",
        "        string=string+'1'\n",
        "      elif num==0:\n",
        "        string=string+'0'\n",
        "  elif num==1:\n",
        "      string=string+'1'\n",
        "  else:\n",
        "      string=string+'0'\n",
        "  return(string[::-1])\n",
        "\n",
        "binary(0)\n",
        "\n",
        "list_palindromes=[i for i in range(1,1000000) if str(i)==str(i)[::-1] and binary(i)==binary(i)[::-1]]\n",
        "\n",
        "sum_of_palindromes=sum(list_palindromes)\n",
        "print(sum_of_palindromes)"
      ]
    },
    {
      "cell_type": "code",
      "source": [],
      "metadata": {
        "id": "ei3IZ30qv_wv"
      },
      "execution_count": null,
      "outputs": []
    }
  ]
}