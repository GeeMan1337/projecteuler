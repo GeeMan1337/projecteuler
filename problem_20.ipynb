{
  "nbformat": 4,
  "nbformat_minor": 0,
  "metadata": {
    "colab": {
      "provenance": [],
      "authorship_tag": "ABX9TyMKTuePrOPZVlACdsLx3GLQ",
      "include_colab_link": true
    },
    "kernelspec": {
      "name": "python3",
      "display_name": "Python 3"
    },
    "language_info": {
      "name": "python"
    }
  },
  "cells": [
    {
      "cell_type": "markdown",
      "metadata": {
        "id": "view-in-github",
        "colab_type": "text"
      },
      "source": [
        "<a href=\"https://colab.research.google.com/github/GeeMan1337/projecteuler/blob/main/problem_20.ipynb\" target=\"_parent\"><img src=\"https://colab.research.google.com/assets/colab-badge.svg\" alt=\"Open In Colab\"/></a>"
      ]
    },
    {
      "cell_type": "code",
      "execution_count": null,
      "metadata": {
        "colab": {
          "base_uri": "https://localhost:8080/"
        },
        "id": "umweepEW7QhF",
        "outputId": "f06c451a-a886-4420-d47f-1ebd5c569e98"
      },
      "outputs": [
        {
          "output_type": "stream",
          "name": "stdout",
          "text": [
            "648\n"
          ]
        }
      ],
      "source": [
        "def factorial(n):\n",
        "  p=1\n",
        "  for i in range(1,n+1):\n",
        "    p=p*i\n",
        "  return p\n",
        "\n",
        "k=factorial(100)\n",
        "s=str(k)\n",
        "sum=0\n",
        "for j in s:\n",
        "  sum=sum+int(j)\n",
        "print(sum)\n"
      ]
    }
  ]
}