{
  "nbformat": 4,
  "nbformat_minor": 0,
  "metadata": {
    "colab": {
      "provenance": [],
      "authorship_tag": "ABX9TyPLp9+7nhVo+smaPrFoDDBq",
      "include_colab_link": true
    },
    "kernelspec": {
      "name": "python3",
      "display_name": "Python 3"
    },
    "language_info": {
      "name": "python"
    }
  },
  "cells": [
    {
      "cell_type": "markdown",
      "metadata": {
        "id": "view-in-github",
        "colab_type": "text"
      },
      "source": [
        "<a href=\"https://colab.research.google.com/github/GeeMan1337/projecteuler/blob/main/primes.ipynb\" target=\"_parent\"><img src=\"https://colab.research.google.com/assets/colab-badge.svg\" alt=\"Open In Colab\"/></a>"
      ]
    },
    {
      "cell_type": "code",
      "execution_count": null,
      "metadata": {
        "id": "3eoy4ceFsWjF"
      },
      "outputs": [],
      "source": [
        "#bad code for finding primes less than 2 mil\n",
        "\n",
        "p=[]\n",
        "for i in range(2,201):\n",
        "    p.append(i) \n",
        "\n",
        "for j in range(3,201):\n",
        "  for k in range(2,j):\n",
        "    if j%k==0 and j in p:\n",
        "      p.remove(j)\n",
        "      \n",
        "      break  \n",
        "print(len(p))\n",
        "print(p)"
      ]
    },
    {
      "cell_type": "code",
      "source": [
        "#finding primes using seive of eratosthenes\n",
        "#better than the last one but still not good\n",
        "\n",
        "n=[2]\n",
        "p=[]\n",
        "for i in range(1,101): #primes upto 2*range upper limit\n",
        "  n.append(2*i+1)\n",
        "\n",
        "while len(n)>0:\n",
        "  p.append(n[0])\n",
        "  for k in range(1,len(n)+1):\n",
        "\n",
        "    if k*p[len(p)-1] in n:\n",
        "      n.remove(k*p[len(p)-1])\n",
        "print(p)"
      ],
      "metadata": {
        "id": "PSZwkIqnsXvZ",
        "colab": {
          "base_uri": "https://localhost:8080/"
        },
        "outputId": "97519452-dfc7-4a20-fd65-0a22c91e59b2"
      },
      "execution_count": 3,
      "outputs": [
        {
          "output_type": "stream",
          "name": "stdout",
          "text": [
            "[2, 3, 5, 7, 11, 13, 17, 19, 23, 29, 31, 37, 41, 43, 47, 53, 59, 61, 67, 71, 73, 79, 83, 89, 97, 101, 103, 107, 109, 113, 127, 131, 137, 139, 149, 151, 157, 163, 167, 173, 179, 181, 191, 193, 197, 199]\n"
          ]
        }
      ]
    },
    {
      "cell_type": "code",
      "source": [],
      "metadata": {
        "id": "yxlMz7TUCkFy"
      },
      "execution_count": null,
      "outputs": []
    }
  ]
}