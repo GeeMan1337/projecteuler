{
  "nbformat": 4,
  "nbformat_minor": 0,
  "metadata": {
    "colab": {
      "provenance": [],
      "authorship_tag": "ABX9TyMsHbiztUZ55NVrmqBv8/tW",
      "include_colab_link": true
    },
    "kernelspec": {
      "name": "python3",
      "display_name": "Python 3"
    },
    "language_info": {
      "name": "python"
    }
  },
  "cells": [
    {
      "cell_type": "markdown",
      "metadata": {
        "id": "view-in-github",
        "colab_type": "text"
      },
      "source": [
        "<a href=\"https://colab.research.google.com/github/GeeMan1337/projecteuler/blob/main/problem_14.ipynb\" target=\"_parent\"><img src=\"https://colab.research.google.com/assets/colab-badge.svg\" alt=\"Open In Colab\"/></a>"
      ]
    },
    {
      "cell_type": "code",
      "execution_count": 64,
      "metadata": {
        "colab": {
          "base_uri": "https://localhost:8080/"
        },
        "id": "TqU-VDgXFKru",
        "outputId": "e7d8273a-795f-4072-aa35-7a42e7f7c7b8"
      },
      "outputs": [
        {
          "output_type": "stream",
          "name": "stdout",
          "text": [
            "837799\n"
          ]
        }
      ],
      "source": [
        "def collatz(n):\n",
        "  count=0\n",
        "  while n>1:\n",
        "    if n%2==0:\n",
        "      n=n/2\n",
        "      count=count+1\n",
        "    else:\n",
        "      n=3*n+1\n",
        "      count=count+1\n",
        "  return count\n",
        "\n",
        "k=[]\n",
        "l=[]\n",
        "for i in range(1,999999):\n",
        "  a=collatz(i)\n",
        "  b=collatz(i+1)\n",
        "  k.append(b)\n",
        "  l.append(i+1)\n",
        "\n",
        "print(l[k.index(max(k))])"
      ]
    }
  ]
}