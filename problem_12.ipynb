{
  "nbformat": 4,
  "nbformat_minor": 0,
  "metadata": {
    "colab": {
      "provenance": [],
      "authorship_tag": "ABX9TyPrkVTePtlckyVYXYoTBYVR",
      "include_colab_link": true
    },
    "kernelspec": {
      "name": "python3",
      "display_name": "Python 3"
    },
    "language_info": {
      "name": "python"
    }
  },
  "cells": [
    {
      "cell_type": "markdown",
      "metadata": {
        "id": "view-in-github",
        "colab_type": "text"
      },
      "source": [
        "<a href=\"https://colab.research.google.com/github/GeeMan1337/projecteuler/blob/main/problem_12.ipynb\" target=\"_parent\"><img src=\"https://colab.research.google.com/assets/colab-badge.svg\" alt=\"Open In Colab\"/></a>"
      ]
    },
    {
      "cell_type": "code",
      "execution_count": 69,
      "metadata": {
        "id": "xWQY_LjdD_8W"
      },
      "outputs": [],
      "source": [
        "#finds the number of factors of n\n",
        "import math\n",
        "def nfac(n):  \n",
        "  p=[]\n",
        "  for i in range(1,int(math.sqrt(n))+1):\n",
        "    if n%i==0 and n/i not in p:\n",
        "        p.append(i)\n",
        "        if n/i not in p:\n",
        "          p.append(int(n/i))\n",
        "        else:\n",
        "          break\n",
        "  return len(p)"
      ]
    },
    {
      "cell_type": "code",
      "source": [
        "m=0\n",
        "s=0\n",
        "k=0\n",
        "while m<500:\n",
        "  s=s+1\n",
        "  k=k+s\n",
        "  m=nfac(k)\n",
        "print(k,m)"
      ],
      "metadata": {
        "colab": {
          "base_uri": "https://localhost:8080/"
        },
        "id": "m8p_mdmzHGvW",
        "outputId": "0e8103e4-c2e3-4213-f292-ee4a691cc6b5"
      },
      "execution_count": 71,
      "outputs": [
        {
          "output_type": "stream",
          "name": "stdout",
          "text": [
            "76576500 576\n"
          ]
        }
      ]
    },
    {
      "cell_type": "code",
      "source": [],
      "metadata": {
        "id": "TZ20rqBeVx2f"
      },
      "execution_count": null,
      "outputs": []
    }
  ]
}