{
  "nbformat": 4,
  "nbformat_minor": 0,
  "metadata": {
    "colab": {
      "provenance": [],
      "authorship_tag": "ABX9TyPLoXTQISeIjpeT2aRut33T",
      "include_colab_link": true
    },
    "kernelspec": {
      "name": "python3",
      "display_name": "Python 3"
    },
    "language_info": {
      "name": "python"
    }
  },
  "cells": [
    {
      "cell_type": "markdown",
      "metadata": {
        "id": "view-in-github",
        "colab_type": "text"
      },
      "source": [
        "<a href=\"https://colab.research.google.com/github/GeeMan1337/projecteuler/blob/main/problem_25.ipynb\" target=\"_parent\"><img src=\"https://colab.research.google.com/assets/colab-badge.svg\" alt=\"Open In Colab\"/></a>"
      ]
    },
    {
      "cell_type": "code",
      "execution_count": 10,
      "metadata": {
        "colab": {
          "base_uri": "https://localhost:8080/"
        },
        "id": "bb0TbAetRXlD",
        "outputId": "eda2c23f-171e-4a1c-d40e-60c8a9c4a608"
      },
      "outputs": [
        {
          "output_type": "stream",
          "name": "stdout",
          "text": [
            "4782\n"
          ]
        }
      ],
      "source": [
        "f0=1\n",
        "f1=1\n",
        "i=2\n",
        "s=0\n",
        "while s<1000:\n",
        "  i=i+1\n",
        "  f2=f1+f0\n",
        "  s=len(str(f2))\n",
        "  a=f1\n",
        "  b=f2\n",
        "  f0=a\n",
        "  f1=b\n",
        "print(i)  "
      ]
    },
    {
      "cell_type": "code",
      "source": [],
      "metadata": {
        "id": "sAZ9z3fNTZzB"
      },
      "execution_count": null,
      "outputs": []
    }
  ]
}