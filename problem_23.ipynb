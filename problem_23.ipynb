{
  "nbformat": 4,
  "nbformat_minor": 0,
  "metadata": {
    "colab": {
      "provenance": [],
      "authorship_tag": "ABX9TyNB+r8mB/nGYKfN/iBhtNlr",
      "include_colab_link": true
    },
    "kernelspec": {
      "name": "python3",
      "display_name": "Python 3"
    },
    "language_info": {
      "name": "python"
    }
  },
  "cells": [
    {
      "cell_type": "markdown",
      "metadata": {
        "id": "view-in-github",
        "colab_type": "text"
      },
      "source": [
        "<a href=\"https://colab.research.google.com/github/GeeMan1337/projecteuler/blob/main/problem_23.ipynb\" target=\"_parent\"><img src=\"https://colab.research.google.com/assets/colab-badge.svg\" alt=\"Open In Colab\"/></a>"
      ]
    },
    {
      "cell_type": "code",
      "execution_count": 25,
      "metadata": {
        "colab": {
          "base_uri": "https://localhost:8080/"
        },
        "id": "u9dqus0epuye",
        "outputId": "f421d70c-402e-42c3-8563-bf581fc0f781"
      },
      "outputs": [
        {
          "output_type": "stream",
          "name": "stdout",
          "text": [
            "4179871\n"
          ]
        }
      ],
      "source": [
        "def sum_proper_div(n):\n",
        "  sum=0\n",
        "  for i in range(1,int(n/2+1)):\n",
        "    if n%i==0:\n",
        "      sum=sum+i\n",
        "  return sum\n",
        "\n",
        "def abundant_num(n):\n",
        "  if sum_proper_div(n)>n:\n",
        "    return True\n",
        "  else:\n",
        "    return False\n",
        "\n",
        "list_abundant=[]\n",
        "for i in range(1,28123):\n",
        "  if abundant_num(i):\n",
        "    list_abundant.append(i)\n",
        "\n",
        "sum_abundant=[]\n",
        "for i in range(len(list_abundant)):\n",
        "  for j in range(len(list_abundant)):\n",
        "    sum=list_abundant[i]+list_abundant[j]\n",
        "    sum_abundant.append(sum)\n",
        "\n",
        "numbers=[i for i in range(1,28123)]\n",
        "\n",
        "not_sum=list(set(numbers)-set(sum_abundant))\n",
        "\n",
        "result=0\n",
        "for i in range(len(not_sum)):\n",
        "  result=result+not_sum[i]\n",
        "print(result)"
      ]
    },
    {
      "cell_type": "code",
      "source": [],
      "metadata": {
        "id": "6Uyv4JHnqKP3"
      },
      "execution_count": null,
      "outputs": []
    }
  ]
}