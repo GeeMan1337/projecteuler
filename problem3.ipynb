{
  "cells": [
    {
      "cell_type": "markdown",
      "metadata": {
        "id": "view-in-github",
        "colab_type": "text"
      },
      "source": [
        "<a href=\"https://colab.research.google.com/github/GeeMan1337/projecteuler/blob/main/problem3.ipynb\" target=\"_parent\"><img src=\"https://colab.research.google.com/assets/colab-badge.svg\" alt=\"Open In Colab\"/></a>"
      ]
    },
    {
      "cell_type": "code",
      "execution_count": null,
      "metadata": {
        "colab": {
          "base_uri": "https://localhost:8080/"
        },
        "id": "HtdA3DkWt6MF",
        "outputId": "7d52fcd0-2e46-43ba-fc92-0782c0c25504"
      },
      "outputs": [
        {
          "output_type": "stream",
          "name": "stdout",
          "text": [
            "[71, 839, 1471, 6857, 59569, 104441, 486847, 1234169, 1234169, 5753023, 10086647, 87625999, 408464633, 716151937, 8462696833]\n",
            "[71, 839, 1471, 6857]\n"
          ]
        }
      ],
      "source": [
        "n=600851475143\n",
        "\n",
        "p=[]\n",
        "for i in range(2,n+1):\n",
        "  if n%i==0:\n",
        "      p.append(i)\n",
        "      p.sort()\n",
        "      if n/i not in p:\n",
        "        p.append(int(n/i))\n",
        "      else:\n",
        "        break\n",
        "        \n",
        "p.sort()\n",
        "print(p)\n",
        "q=list(p)\n",
        "for j in range(1,len(p)):\n",
        "  for k in range(0,j):\n",
        "    if p[j]%p[k]==0 and p[j] in q:\n",
        "      q.remove(p[j])\n",
        "print(q)"
      ]
    },
    {
      "cell_type": "code",
      "source": [],
      "metadata": {
        "id": "vBNij-6H834F"
      },
      "execution_count": null,
      "outputs": []
    }
  ],
  "metadata": {
    "colab": {
      "provenance": [],
      "authorship_tag": "ABX9TyPXSYNJVKX1GQLk55Dk06/3",
      "include_colab_link": true
    },
    "kernelspec": {
      "display_name": "Python 3",
      "name": "python3"
    },
    "language_info": {
      "name": "python"
    }
  },
  "nbformat": 4,
  "nbformat_minor": 0
}