{
  "nbformat": 4,
  "nbformat_minor": 0,
  "metadata": {
    "colab": {
      "provenance": [],
      "authorship_tag": "ABX9TyP/cGnwXWIkiLlmlzfpRB2N",
      "include_colab_link": true
    },
    "kernelspec": {
      "name": "python3",
      "display_name": "Python 3"
    },
    "language_info": {
      "name": "python"
    }
  },
  "cells": [
    {
      "cell_type": "markdown",
      "metadata": {
        "id": "view-in-github",
        "colab_type": "text"
      },
      "source": [
        "<a href=\"https://colab.research.google.com/github/GeeMan1337/projecteuler/blob/main/problem3.ipynb\" target=\"_parent\"><img src=\"https://colab.research.google.com/assets/colab-badge.svg\" alt=\"Open In Colab\"/></a>"
      ]
    },
    {
      "cell_type": "code",
      "execution_count": 49,
      "metadata": {
        "colab": {
          "base_uri": "https://localhost:8080/",
          "height": 408
        },
        "id": "HtdA3DkWt6MF",
        "outputId": "4aadac86-36b5-4d66-84c7-40a829c90152"
      },
      "outputs": [
        {
          "output_type": "stream",
          "name": "stdout",
          "text": [
            "[71]\n",
            "[71, 839]\n",
            "[71, 839, 1471]\n",
            "[71, 839, 1471, 6857]\n",
            "[71, 839, 1471, 6857, 59569]\n",
            "[71, 839, 1471, 6857, 59569, 104441]\n",
            "[71, 839, 1471, 6857, 59569, 104441, 486847]\n",
            "[71, 839, 1471, 6857, 59569, 104441, 486847, 1234169]\n",
            "[71, 839, 1471, 6857, 59569, 104441, 486847, 1234169, 5753023]\n",
            "[71, 839, 1471, 6857, 59569, 104441, 486847, 1234169, 5753023, 10086647]\n"
          ]
        },
        {
          "output_type": "error",
          "ename": "KeyboardInterrupt",
          "evalue": "ignored",
          "traceback": [
            "\u001b[0;31m---------------------------------------------------------------------------\u001b[0m",
            "\u001b[0;31mKeyboardInterrupt\u001b[0m                         Traceback (most recent call last)",
            "\u001b[0;32m<ipython-input-49-89a704d2bb1b>\u001b[0m in \u001b[0;36m<module>\u001b[0;34m\u001b[0m\n\u001b[1;32m      4\u001b[0m \u001b[0;34m\u001b[0m\u001b[0m\n\u001b[1;32m      5\u001b[0m \u001b[0mp\u001b[0m\u001b[0;34m=\u001b[0m\u001b[0;34m[\u001b[0m\u001b[0;34m]\u001b[0m\u001b[0;34m\u001b[0m\u001b[0;34m\u001b[0m\u001b[0m\n\u001b[0;32m----> 6\u001b[0;31m \u001b[0;32mfor\u001b[0m \u001b[0mi\u001b[0m \u001b[0;32min\u001b[0m \u001b[0mrange\u001b[0m\u001b[0;34m(\u001b[0m\u001b[0;36m2\u001b[0m\u001b[0;34m,\u001b[0m\u001b[0mn\u001b[0m\u001b[0;34m+\u001b[0m\u001b[0;36m1\u001b[0m\u001b[0;34m)\u001b[0m\u001b[0;34m:\u001b[0m\u001b[0;34m\u001b[0m\u001b[0;34m\u001b[0m\u001b[0m\n\u001b[0m\u001b[1;32m      7\u001b[0m   \u001b[0;32mif\u001b[0m \u001b[0mn\u001b[0m\u001b[0;34m%\u001b[0m\u001b[0mi\u001b[0m\u001b[0;34m==\u001b[0m\u001b[0;36m0\u001b[0m\u001b[0;34m:\u001b[0m\u001b[0;34m\u001b[0m\u001b[0;34m\u001b[0m\u001b[0m\n\u001b[1;32m      8\u001b[0m     \u001b[0mp\u001b[0m\u001b[0;34m.\u001b[0m\u001b[0mappend\u001b[0m\u001b[0;34m(\u001b[0m\u001b[0mi\u001b[0m\u001b[0;34m)\u001b[0m\u001b[0;34m\u001b[0m\u001b[0;34m\u001b[0m\u001b[0m\n",
            "\u001b[0;31mKeyboardInterrupt\u001b[0m: "
          ]
        }
      ],
      "source": [
        "#code runs slow\n",
        "\n",
        "n=600851475143\n",
        "\n",
        "p=[]\n",
        "for i in range(2,n+1):\n",
        "  if n%i==0:\n",
        "    p.append(i)\n",
        "    print(p)\n",
        "q=list(p)\n",
        "for j in range(1,len(p)):\n",
        "  for k in range(0,j):\n",
        "    if p[j]%p[k]==0 and p[j] in q:\n",
        "      q.remove(p[j])\n",
        "      print(q)\n",
        "print(q)"
      ]
    },
    {
      "cell_type": "code",
      "source": [
        "from re import I\n",
        "#code runs slow\n",
        "\n",
        "n=600851475143\n",
        "\n",
        "p=[]\n",
        "for i in range(2,n+1):\n",
        "  if n%i==0:\n",
        "    while n/i not in p:\n",
        "      p.append(i)\n",
        "      p.append(int(n/i))\n",
        "      print(p)\n",
        "p.sort()\n",
        "q=list(p)\n",
        "for j in range(1,len(p)):\n",
        "  for k in range(0,j):\n",
        "    if p[j]%p[k]==0 and p[j] in q:\n",
        "      q.remove(p[j])\n",
        "      print(q)\n",
        "print(q)"
      ],
      "metadata": {
        "colab": {
          "base_uri": "https://localhost:8080/"
        },
        "id": "uLMIK0BJAjWR",
        "outputId": "a8718e15-37a1-4035-eb8a-295669574ce6"
      },
      "execution_count": null,
      "outputs": [
        {
          "output_type": "stream",
          "name": "stdout",
          "text": [
            "[71, 8462696833]\n",
            "[71, 8462696833, 839, 716151937]\n",
            "[71, 8462696833, 839, 716151937, 1471, 408464633]\n",
            "[71, 8462696833, 839, 716151937, 1471, 408464633, 6857, 87625999]\n",
            "[71, 8462696833, 839, 716151937, 1471, 408464633, 6857, 87625999, 59569, 10086647]\n",
            "[71, 8462696833, 839, 716151937, 1471, 408464633, 6857, 87625999, 59569, 10086647, 104441, 5753023]\n",
            "[71, 8462696833, 839, 716151937, 1471, 408464633, 6857, 87625999, 59569, 10086647, 104441, 5753023, 486847, 1234169]\n"
          ]
        }
      ]
    },
    {
      "cell_type": "code",
      "source": [],
      "metadata": {
        "id": "KMvYyD_HNFLY"
      },
      "execution_count": null,
      "outputs": []
    }
  ]
}